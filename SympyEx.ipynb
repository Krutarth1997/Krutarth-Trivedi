"""
Perform a curve discussion using SymPy following these steps:
• Let 𝑓(𝑥) = 2𝑥 + 8 + 66
𝑥−8 .
• (optional) Plot 𝑓(𝑥) for 𝑥 ∈ [0; 4] and 𝑥 ∈ [0; 20].
• Compute all zeros.
• Compute the derivative.
• Compute the position of the extrema.
• Compute the integral of 𝑓 between both zeros.
Compute all values above symbolically first, simplify them if necessary, and convert them into
floating point numbers afterwards.
"""

from sympy import *

var('x')
f = 2*x + 8 + 66/(x-8)

# Plot of the function f(x) for x in [0,4] & x in [0,20]
plot(f,(x,0,4),title='f(x) in [0, 4]',show=True)
plot(f,(x,0,20),title='f(x) in [0;20]',show=True)

# Computation of zeros
polyRoots = solveset(f, x)
print('Zeros of f(x) = %s : %s'%(f,polyRoots))

# Computation of the derivative
d1 = diff(f, x, 1)
print('The 1st derivative of the function, ' + str(expand(f)) + str(expand(d1)))

# Computation of the position of the extrema
q = solve(d1, x)
d2 = diff(f, x, 2)
e1 = d2.subs(x, q[0])
e2 = d2.subs(x, q[1])

if e1<0:
    print('Maxima at the point = {' + str(float(q[0])) + ', ' + str(float(f.subs(x,q[0]))) + '}')
else:
    print('Minima at the point = {' + str(float(q[0])) + ', ' + str(float(f.subs(x,q[0]))) + '}')

if e2<0:
    print('Maxima at the point = {' + str(float(q[1])) + ', ' + str(float(f.subs(x,q[1]))) + '}')
else:
    print('Minima at the point = {' + str(float(q[1])) + ', ' + str(float(f.subs(x,q[1]))) + '}')


# Computation of the integral of fucntion at interval of it's own roots 
print('The Integral of the function, ' + str(expand(f)) + ' at the interval of its own roots is ' + str(float(integrate(f,(x, p[0], p[1])))))
#print


"""
Krutarth Trivedi
2130962
"""