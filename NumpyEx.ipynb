"""
Write a Python function that computes the eigenvalue with largest absolute value 𝜆max of a matrix
𝐴 ∈ ℝ𝑛×𝑛 using the power method. Start with the vector 𝑥
0 = (1, …, 1)𝑇 ∈ ℝ𝑛. Perform the iteration 𝑥
𝑘+1 =𝐴𝑥𝑘/‖𝐴𝑥𝑘‖2 until ‖𝑥𝑘+1 − 𝑥𝑘‖2 < 10−12. Return ‖𝐴𝑥𝑘+1‖2. 
Use matrix and vector operations where possible.
"""

import numpy as np
from scipy import linalg

#Toeplitz Matrix
n = int(input('Input Matrix size n:'))
h = np.array([4,-1,-2])
if(n>=3):
    r = np.concatenate((h,np.zeros(n-h.size)),axis=None)
else:
    if(n == 1):
        r = np.array([4])
    else:
        r = np.array([4,-1])

t = linalg.toeplitz(r,r)
print('Toeplitz Matrix : \n', t)

def eigenVal(a):
    n = len(a)
    x0 = np.ones(n)
    x = np.divide(np.matmul(a,x0),np.linalg.norm(x0))
    while(np.linalg.norm(x-x0) > 10E-12):
        x0 = np.copy(x)
        x = np.divide(np.matmul(a,x0),np.linalg.norm(x0))
    return np.linalg.norm(x)

print('Using definition :')
print('Largest absolute Eigen Value of Toeplitz Matrix A of size %d = %s '%(n,eigenVal(t)))
la, v = np.linalg.eig(t)
print('Using numpy and scipy :')
print('Largest absolute Eigen Value of Toeplitz Matrix A of size %d = %s '%(n,la.max()))